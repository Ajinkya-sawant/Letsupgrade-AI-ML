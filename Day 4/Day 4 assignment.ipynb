{
 "cells": [
  {
   "cell_type": "markdown",
   "metadata": {
    "collapsed": false
   },
   "source": [
    "**Question 1 :\n",
    "Research on whether addition, subtraction, multiplication, division, floor division and modulo\n",
    "operations be performed on complex numbers. Based on your study, implement a Python\n",
    "program to demonstrate these operations.**\n"
   ]
  },
  {
   "cell_type": "code",
   "execution_count": 2,
   "metadata": {
    "collapsed": false
   },
   "outputs": [
    {
     "name": "stdout",
     "output_type": "stream",
     "text": [
      "The addition of  two complex number  (1+2j) & (2+3j) is (3+5j)\n",
      "The Subtraction  of two complex number  (1+2j) & (2+3j) is (-1-1j)\n",
      "The Multiplication of two complex number  (1+2j) & (2+3j) is (-4+7j)\n",
      "The Division of two complex number  (1+2j) & (2+3j) is (0.6153846153846154+0.07692307692307691j)\n",
      "floor Division and modulo operation cannot be used with complex numbers\n"
     ]
    }
   ],
   "source": [
    "a=1+2j\n",
    "b=2+3j\n",
    "c=a+b\n",
    "d=a-b\n",
    "e=a*b\n",
    "f=a/b\n",
    "print(\"The addition of  two complex number \",a , \"&\", b ,\"is\", c ,)\n",
    "print(\"The Subtraction  of two complex number \",a , \"&\", b ,\"is\", d ,)\n",
    "print(\"The Multiplication of two complex number \",a , \"&\", b ,\"is\", e ,)\n",
    "print(\"The Division of two complex number \",a , \"&\", b ,\"is\", f ,)\n",
    "print(\"floor Division and modulo operation cannot be used with complex numbers\")"
   ]
  },
  {
   "cell_type": "markdown",
   "metadata": {
    "collapsed": false
   },
   "source": [
    "**Question 2 :\n",
    "Research on range() functions and its parameters. Create a markdown cell and write in your own\n",
    "words (no copy-paste from google please) what you understand about it. Implement a small\n",
    "program of your choice on the same.**\n"
   ]
  },
  {
   "cell_type": "markdown",
   "metadata": {
    "collapsed": false
   },
   "source": [
    "## Range Function\n",
    "**Range function is used to get sequence of numbers between 0 and given number**  \n",
    "*There are 3 parameters to this function*  \n",
    "1.start -- This is used to give starting number which is by default is 0  \n",
    "2.Stop --  This is used to give end point and  this number is excluded  \n",
    "3.Step -- This is used to define incremental value which is by default is 1  \n",
    "\n",
    "*It is stored in variable and then for loop  or while loop is applied on that variable*"
   ]
  },
  {
   "cell_type": "code",
   "execution_count": 1,
   "metadata": {
    "collapsed": false
   },
   "outputs": [
    {
     "name": "stdout",
     "output_type": "stream",
     "text": [
      "5\n",
      "6\n",
      "7\n",
      "8\n",
      "9\n"
     ]
    }
   ],
   "source": [
    "x=range(5,10)\n",
    "for i in x:\n",
    "    print(i)"
   ]
  },
  {
   "cell_type": "markdown",
   "metadata": {
    "collapsed": false
   },
   "source": [
    "**Question 3:\n",
    " Consider two numbers. Perform their subtraction and if the result of subtraction is greater than\n",
    "25, print their multiplication result else print their division result**"
   ]
  },
  {
   "cell_type": "code",
   "execution_count": 2,
   "metadata": {
    "collapsed": false,
    "scrolled": true
   },
   "outputs": [
    {
     "name": "stdout",
     "output_type": "stream",
     "text": [
      "Multiplication is 500\n"
     ]
    }
   ],
   "source": [
    "a=50\n",
    "b=10\n",
    "if((a-b)>25):\n",
    "    print(\"Multiplication is\",a*b)\n",
    "else:\n",
    "    print(\"Division is\",a/b)"
   ]
  },
  {
   "cell_type": "markdown",
   "metadata": {
    "collapsed": false
   },
   "source": [
    "**Question 4:\n",
    "Consider a list of 10 elements of integer values. If the number in the list is divisible by 2, print the\n",
    "result as \"square of that number minus 2\".**\n"
   ]
  },
  {
   "cell_type": "code",
   "execution_count": 3,
   "metadata": {
    "collapsed": false
   },
   "outputs": [
    {
     "name": "stdout",
     "output_type": "stream",
     "text": [
      "98\n",
      "398\n",
      "194\n",
      "1598\n",
      "898\n",
      "14\n"
     ]
    }
   ],
   "source": [
    "a=[10,20,11,14,15,40,30,35,65,4]\n",
    "for i in a:\n",
    "    if(i%2==0):\n",
    "        print(i**2-2)"
   ]
  },
  {
   "cell_type": "markdown",
   "metadata": {
    "collapsed": false
   },
   "source": [
    "**Question 5:\n",
    "Consider a list of 10 elements. Print all the elements in the list which are greater than 7 when that\n",
    "number is divided 2.**"
   ]
  },
  {
   "cell_type": "code",
   "execution_count": 4,
   "metadata": {
    "collapsed": false
   },
   "outputs": [
    {
     "name": "stdout",
     "output_type": "stream",
     "text": [
      "140\n",
      "63\n",
      "56\n",
      "350\n",
      "65\n",
      "70\n"
     ]
    }
   ],
   "source": [
    "a=[10,4,140,63,11,56,350,3,65,70]\n",
    "for i in a:\n",
    "    if((i/2)>7):\n",
    "        print(i)"
   ]
  },
  {
   "cell_type": "code",
   "execution_count": 0,
   "metadata": {
    "collapsed": false
   },
   "outputs": [
   ],
   "source": [
   ]
  }
 ],
 "metadata": {
  "kernelspec": {
   "display_name": "Python 3 (system-wide)",
   "language": "python",
   "metadata": {
    "cocalc": {
     "description": "Python 3 programming language",
     "priority": 100,
     "url": "https://www.python.org/"
    }
   },
   "name": "python3"
  },
  "language_info": {
   "codemirror_mode": {
    "name": "ipython",
    "version": 3
   },
   "file_extension": ".py",
   "mimetype": "text/x-python",
   "name": "python",
   "nbconvert_exporter": "python",
   "pygments_lexer": "ipython3",
   "version": "3.6.9"
  }
 },
 "nbformat": 4,
 "nbformat_minor": 4
}
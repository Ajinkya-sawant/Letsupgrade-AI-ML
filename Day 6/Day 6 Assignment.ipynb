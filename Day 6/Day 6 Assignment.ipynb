{
 "cells": [
  {
   "cell_type": "markdown",
   "metadata": {
    "collapsed": false
   },
   "source": [
    "**Question 1:\n",
    "Assuming that we have some email addresses in the \"username@companyname.com\" format, please write program\n",
    "to print the company name of a given email address. Both user names and company names are composed of letters\n",
    "only.**\n"
   ]
  },
  {
   "cell_type": "code",
   "execution_count": 1,
   "metadata": {
    "collapsed": false
   },
   "outputs": [
    {
     "name": "stdout",
     "output_type": "stream",
     "text": [
      "gmail\n"
     ]
    }
   ],
   "source": [
    "email=\"john@gmail.com\"\n",
    "b=(email.partition(\"@\"))\n",
    "c=(b[2])\n",
    "d=(c.partition(\".\"))\n",
    "company_name=(d[0])\n",
    "print(company_name)\n"
   ]
  },
  {
   "cell_type": "markdown",
   "metadata": {
    "collapsed": false
   },
   "source": [
    "**Question 2:\n",
    "Write a program that accepts a comma-separated sequence of words as input and prints the words in a comma\n",
    "separated sequence after sorting them alphabetically.**\n",
    "\n"
   ]
  },
  {
   "cell_type": "code",
   "execution_count": 8,
   "metadata": {
    "cocalc": {
     "outputs": {
      "0": {
       "name": "input",
       "opts": {
        "password": false,
        "prompt": "Input comma separated sequence of words"
       },
       "output_type": "stream",
       "value": "without,blue.hello,bag,world,apple"
      }
     }
    },
    "collapsed": false
   },
   "outputs": [
    {
     "name": "stdout",
     "output_type": "stream",
     "text": "Input comma separated sequence of words without,blue.hello,bag,world,apple"
    },
    {
     "name": "stdout",
     "output_type": "stream",
     "text": [
      "\n",
      " After Sorting\n",
      "apple,bag,blue.hello,without,world\n"
     ]
    }
   ],
   "source": [
    "items = input(\"Input comma separated sequence of words\")\n",
    "words = [word for word in items.split(\",\")]\n",
    "print(\"\\n After Sorting\")\n",
    "print(\",\".join(sorted(list(set(words)))))\n"
   ]
  },
  {
   "cell_type": "markdown",
   "metadata": {
    "collapsed": false
   },
   "source": [
    "**Question 3:\n",
    "Create your own Jupyter Notebook for Sets**"
   ]
  },
  {
   "cell_type": "markdown",
   "metadata": {
    "collapsed": false
   },
   "source": [
    "### Set\n",
    "*A set is a collection which is unordered and unindexed. In Python sets are written with curly brackets.*"
   ]
  },
  {
   "cell_type": "code",
   "execution_count": 2,
   "metadata": {
    "collapsed": false
   },
   "outputs": [
    {
     "name": "stdout",
     "output_type": "stream",
     "text": [
      "{'notebook', 'Desktop', 'laptop'}\n"
     ]
    }
   ],
   "source": [
    "# Create a Set:\n",
    "\n",
    "thisset = {\"Desktop\", \"laptop\", \"notebook\"}\n",
    "print(thisset)\n"
   ]
  },
  {
   "cell_type": "code",
   "execution_count": 3,
   "metadata": {
    "collapsed": false
   },
   "outputs": [
    {
     "name": "stdout",
     "output_type": "stream",
     "text": [
      "{'notebook', 'Desktop', 'laptop'}\n"
     ]
    }
   ],
   "source": [
    "#  It is also possible to use the set() constructor to make a set.\n",
    "\n",
    "thisset = set((\"Desktop\", \"laptop\", \"notebook\")) # note the double round-brackets\n",
    "print(thisset)"
   ]
  },
  {
   "cell_type": "code",
   "execution_count": 4,
   "metadata": {
    "collapsed": false
   },
   "outputs": [
    {
     "name": "stdout",
     "output_type": "stream",
     "text": [
      "notebook\n",
      "Desktop\n",
      "laptop\n"
     ]
    }
   ],
   "source": [
    "#You cannot access items in a set by referring to an index, since sets are unordered the items has no index. \n",
    "#Loop through the set, and print the values:  \n",
    "\n",
    "thisset = {\"Desktop\", \"laptop\", \"notebook\"}\n",
    "\n",
    "for x in thisset:\n",
    "    print(x)"
   ]
  },
  {
   "cell_type": "code",
   "execution_count": 5,
   "metadata": {
    "collapsed": false
   },
   "outputs": [
    {
     "name": "stdout",
     "output_type": "stream",
     "text": [
      "{'notebook', 'Desktop', 'chromebook', 'laptop'}\n"
     ]
    }
   ],
   "source": [
    "# To add one item to a set use the add() method.  To add more than one item to a set use the update() method.\n",
    "\n",
    "thisset = {\"Desktop\", \"laptop\", \"notebook\"}\n",
    "\n",
    "thisset.add(\"chromebook\")\n",
    "\n",
    "print(thisset)"
   ]
  },
  {
   "cell_type": "code",
   "execution_count": 6,
   "metadata": {
    "collapsed": false
   },
   "outputs": [
    {
     "name": "stdout",
     "output_type": "stream",
     "text": [
      "{'Desktop', 'laptop'}\n"
     ]
    }
   ],
   "source": [
    "#To remove an item in a set, use the remove(), or the discard() method.\n",
    "\n",
    "thisset = {\"Desktop\", \"laptop\", \"notebook\"}\n",
    "\n",
    "thisset.remove(\"notebook\")\n",
    "\n",
    "print(thisset)\n"
   ]
  },
  {
   "cell_type": "code",
   "execution_count": 13,
   "metadata": {
    "collapsed": false
   },
   "outputs": [
    {
     "name": "stdout",
     "output_type": "stream",
     "text": [
      "{1, 2, 3, 'c', 'b', 'a'}\n"
     ]
    }
   ],
   "source": [
    "# To join two sets\n",
    "\n",
    "set1 = {\"a\", \"b\" , \"c\"}\n",
    "set2 = {1, 2, 3}\n",
    "\n",
    "set3 = set1.union(set2)\n",
    "print(set3)"
   ]
  },
  {
   "cell_type": "code",
   "execution_count": 15,
   "metadata": {
    "collapsed": false
   },
   "outputs": [
   ],
   "source": [
   ]
  },
  {
   "cell_type": "markdown",
   "metadata": {
    "collapsed": false
   },
   "source": [
    "**Question 4:\n",
    "Given a list of n-1 numbers ranging from 1 to n, your task is to find the missing number. There are no duplicates.**"
   ]
  },
  {
   "cell_type": "code",
   "execution_count": 3,
   "metadata": {
    "cocalc": {
     "outputs": {
      "0": {
       "name": "input",
       "opts": {
        "password": false,
        "prompt": "Enter the numbers separated by a space.:"
       },
       "output_type": "stream",
       "value": "1 2 3 4 6 7 8"
      }
     }
    },
    "collapsed": false
   },
   "outputs": [
    {
     "name": "stdout",
     "output_type": "stream",
     "text": "Enter the numbers separated by a space.: 1 2 3 4 6 7 8"
    },
    {
     "name": "stdout",
     "output_type": "stream",
     "text": [
      "The missing number in the given list is:  5\n"
     ]
    }
   ],
   "source": [
    "num = input(\"Enter the numbers separated by a space.:\")\n",
    "l = num.split(' ')\n",
    "l.sort()\n",
    "for i in range(len(l)):\n",
    "    if i+1 == int(l[i]):\n",
    "        continue\n",
    "    else:\n",
    "        print(\"The missing number in the given list is: \",i+1)\n",
    "        break"
   ]
  },
  {
   "cell_type": "markdown",
   "metadata": {
    "collapsed": false
   },
   "source": [
    "**Question 5:\n",
    "With a given list L, write a program to print this list L after removing all duplicate values with original order reserved.**"
   ]
  },
  {
   "cell_type": "code",
   "execution_count": 9,
   "metadata": {
    "collapsed": false
   },
   "outputs": [
    {
     "name": "stdout",
     "output_type": "stream",
     "text": [
      "[15, 24, 352, 55, 120, 90]\n"
     ]
    }
   ],
   "source": [
    "def Remove(List): \n",
    "    finalList = [] \n",
    "    for i in List: \n",
    "        if i not in finalList: \n",
    "            finalList.append(i) \n",
    "    return  finalList\n",
    "      \n",
    "List = [15,24,352,24,55,120,15,55,120,55,90] \n",
    "print(Remove(List))"
   ]
  },
  {
   "cell_type": "code",
   "execution_count": 0,
   "metadata": {
    "collapsed": false
   },
   "outputs": [
   ],
   "source": [
   ]
  }
 ],
 "metadata": {
  "kernelspec": {
   "display_name": "Python 3 (system-wide)",
   "language": "python",
   "metadata": {
    "cocalc": {
     "description": "Python 3 programming language",
     "priority": 100,
     "url": "https://www.python.org/"
    }
   },
   "name": "python3"
  },
  "language_info": {
   "codemirror_mode": {
    "name": "ipython",
    "version": 3
   },
   "file_extension": ".py",
   "mimetype": "text/x-python",
   "name": "python",
   "nbconvert_exporter": "python",
   "pygments_lexer": "ipython3",
   "version": "3.6.9"
  }
 },
 "nbformat": 4,
 "nbformat_minor": 4
}
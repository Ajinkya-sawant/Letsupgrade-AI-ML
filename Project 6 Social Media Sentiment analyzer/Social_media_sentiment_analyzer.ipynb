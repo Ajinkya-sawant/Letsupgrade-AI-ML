{
  "nbformat": 4,
  "nbformat_minor": 0,
  "metadata": {
    "colab": {
      "name": "Social media sentiment analyzer.ipynb",
      "provenance": []
    },
    "kernelspec": {
      "name": "python3",
      "display_name": "Python 3"
    }
  },
  "cells": [
    {
      "cell_type": "code",
      "metadata": {
        "colab": {
          "base_uri": "https://localhost:8080/"
        },
        "id": "v-GWTjmgQAxk",
        "outputId": "fdc7273e-7b53-420a-fb95-4e13405a8d49"
      },
      "source": [
        "!pip install tweepy\r\n",
        "!pip install textblob\r\n"
      ],
      "execution_count": 1,
      "outputs": [
        {
          "output_type": "stream",
          "text": [
            "Requirement already satisfied: tweepy in /usr/local/lib/python3.6/dist-packages (3.6.0)\n",
            "Requirement already satisfied: requests-oauthlib>=0.7.0 in /usr/local/lib/python3.6/dist-packages (from tweepy) (1.3.0)\n",
            "Requirement already satisfied: PySocks>=1.5.7 in /usr/local/lib/python3.6/dist-packages (from tweepy) (1.7.1)\n",
            "Requirement already satisfied: requests>=2.11.1 in /usr/local/lib/python3.6/dist-packages (from tweepy) (2.23.0)\n",
            "Requirement already satisfied: six>=1.10.0 in /usr/local/lib/python3.6/dist-packages (from tweepy) (1.15.0)\n",
            "Requirement already satisfied: oauthlib>=3.0.0 in /usr/local/lib/python3.6/dist-packages (from requests-oauthlib>=0.7.0->tweepy) (3.1.0)\n",
            "Requirement already satisfied: chardet<4,>=3.0.2 in /usr/local/lib/python3.6/dist-packages (from requests>=2.11.1->tweepy) (3.0.4)\n",
            "Requirement already satisfied: certifi>=2017.4.17 in /usr/local/lib/python3.6/dist-packages (from requests>=2.11.1->tweepy) (2020.12.5)\n",
            "Requirement already satisfied: idna<3,>=2.5 in /usr/local/lib/python3.6/dist-packages (from requests>=2.11.1->tweepy) (2.10)\n",
            "Requirement already satisfied: urllib3!=1.25.0,!=1.25.1,<1.26,>=1.21.1 in /usr/local/lib/python3.6/dist-packages (from requests>=2.11.1->tweepy) (1.24.3)\n",
            "Requirement already satisfied: textblob in /usr/local/lib/python3.6/dist-packages (0.15.3)\n",
            "Requirement already satisfied: nltk>=3.1 in /usr/local/lib/python3.6/dist-packages (from textblob) (3.2.5)\n",
            "Requirement already satisfied: six in /usr/local/lib/python3.6/dist-packages (from nltk>=3.1->textblob) (1.15.0)\n"
          ],
          "name": "stdout"
        }
      ]
    },
    {
      "cell_type": "code",
      "metadata": {
        "id": "2HaC-0pXQMlM"
      },
      "source": [
        "import sys,tweepy,csv,re\r\n",
        "from textblob import TextBlob\r\n",
        "import matplotlib.pyplot as plt\r\n"
      ],
      "execution_count": 2,
      "outputs": []
    },
    {
      "cell_type": "code",
      "metadata": {
        "colab": {
          "base_uri": "https://localhost:8080/",
          "height": 549
        },
        "id": "nslAotrkQ102",
        "outputId": "f7ad5ba3-88af-4e20-9fe1-084ba6ffa983"
      },
      "source": [
        "class SentimentAnalysis:\r\n",
        "    def __init__(self):\r\n",
        "        self.tweets = []\r\n",
        "        self.tweetText = []\r\n",
        "    def DownloadData(self):\r\n",
        "        consumer_key= \"XC5LfO3Om0DRDOty9Y6dtNtZA\"\r\n",
        "        consumer_secret= \"NAqkwz5ZN3wwnMWVfMpQ8GuGFlkoIaKSQL9sztm5fHTlD9vGOk\" \r\n",
        "        access_token= \"3685203556-MFGihHXew3BTFvARuAgNnP4psUhUMoBnpj6hhKV\"\r\n",
        "        access_token_secret= \"hZ4H9mlTGRPPVjOTIcv0CR8pIy6mFqvCPA6pfyJDsFHrM\"\r\n",
        "        auth = tweepy.OAuthHandler(consumer_key, consumer_secret)\r\n",
        "        auth.set_access_token(access_token, access_token_secret)\r\n",
        "        api = tweepy.API(auth)\r\n",
        "\r\n",
        "        # input for term to be searched and how many tweets to search\r\n",
        "        searchTerm = input(\"Enter Keyword/Tag to search about: \")\r\n",
        "        NoOfTerms = int(input(\"Enter how many tweets to search: \"))\r\n",
        "\r\n",
        "        # searching for tweets\r\n",
        "        self.tweets = tweepy.Cursor(api.search, q=searchTerm, lang = \"en\").items(NoOfTerms)\r\n",
        "\r\n",
        "        # Open/create a file to append data to\r\n",
        "        csvFile = open('result.csv', 'a')\r\n",
        "\r\n",
        "        # Use csv writer\r\n",
        "        csvWriter = csv.writer(csvFile)\r\n",
        "  # creating some variables to store info\r\n",
        "        polarity = 0\r\n",
        "        positive = 0\r\n",
        "        wpositive = 0\r\n",
        "        spositive = 0\r\n",
        "        negative = 0\r\n",
        "        wnegative = 0\r\n",
        "        snegative = 0\r\n",
        "        neutral = 0\r\n",
        "\r\n",
        "\r\n",
        "        # iterating through tweets fetched\r\n",
        "        for tweet in self.tweets:\r\n",
        "            #Append to temp so that we can store in csv later. I use encode UTF-8\r\n",
        "            self.tweetText.append(self.cleanTweet(tweet.text).encode('utf-8'))\r\n",
        "            # print (tweet.text.translate(non_bmp_map))    #print tweet's text\r\n",
        "            analysis = TextBlob(tweet.text)\r\n",
        "            # print(analysis.sentiment)  # print tweet's polarity\r\n",
        "            polarity += analysis.sentiment.polarity  # adding up polarities to find the average later\r\n",
        "\r\n",
        "            if (analysis.sentiment.polarity == 0):  # adding reaction of how people are reacting to find average later\r\n",
        "                neutral += 1\r\n",
        "            elif (analysis.sentiment.polarity > 0 and analysis.sentiment.polarity <= 0.3):\r\n",
        "                wpositive += 1\r\n",
        "            elif (analysis.sentiment.polarity > 0.3 and analysis.sentiment.polarity <= 0.6):\r\n",
        "                positive += 1\r\n",
        "            elif (analysis.sentiment.polarity > 0.6 and analysis.sentiment.polarity <= 1):\r\n",
        "                spositive += 1\r\n",
        "            elif (analysis.sentiment.polarity > -0.3 and analysis.sentiment.polarity <= 0):\r\n",
        "                wnegative += 1\r\n",
        "            elif (analysis.sentiment.polarity > -0.6 and analysis.sentiment.polarity <= -0.3):\r\n",
        "                negative += 1\r\n",
        "            elif (analysis.sentiment.polarity > -1 and analysis.sentiment.polarity <= -0.6):\r\n",
        "                snegative += 1\r\n",
        "\r\n",
        "    # Write to csv and close csv file\r\n",
        "        csvWriter.writerow(self.tweetText)\r\n",
        "        csvFile.close()\r\n",
        "\r\n",
        "        # finding average of how people are reacting\r\n",
        "        positive = self.percentage(positive, NoOfTerms)\r\n",
        "        wpositive = self.percentage(wpositive, NoOfTerms)\r\n",
        "        spositive = self.percentage(spositive, NoOfTerms)\r\n",
        "        negative = self.percentage(negative, NoOfTerms)\r\n",
        "        wnegative = self.percentage(wnegative, NoOfTerms)\r\n",
        "        snegative = self.percentage(snegative, NoOfTerms)\r\n",
        "        neutral = self.percentage(neutral, NoOfTerms)\r\n",
        "\r\n",
        "        # finding average reaction\r\n",
        "        polarity = polarity / NoOfTerms\r\n",
        "\r\n",
        "        # printing out data\r\n",
        "        print(\"How people are reacting on \" + searchTerm + \" by analyzing \" + str(NoOfTerms) + \" tweets.\")\r\n",
        "        print()\r\n",
        "        print(\"General Report: \")\r\n",
        "\r\n",
        "        if (polarity == 0):\r\n",
        "            print(\"Neutral\")\r\n",
        "        elif (polarity > 0 and polarity <= 0.3):\r\n",
        "            print(\"Weakly Positive\")\r\n",
        "        elif (polarity > 0.3 and polarity <= 0.6):\r\n",
        "            print(\"Positive\")\r\n",
        "        elif (polarity > 0.6 and polarity <= 1):\r\n",
        "            print(\"Strongly Positive\")\r\n",
        "        elif (polarity > -0.3 and polarity <= 0):\r\n",
        "            print(\"Weakly Negative\")\r\n",
        "        elif (polarity > -0.6 and polarity <= -0.3):\r\n",
        "            print(\"Negative\")\r\n",
        "        elif (polarity > -1 and polarity <= -0.6):\r\n",
        "            print(\"Strongly Negative\")\r\n",
        "\r\n",
        "        print()\r\n",
        "        print(\"Detailed Report: \")\r\n",
        "        print(str(positive) + \"% people thought it was positive\")\r\n",
        "        print(str(wpositive) + \"% people thought it was weakly positive\")\r\n",
        "        print(str(spositive) + \"% people thought it was strongly positive\")\r\n",
        "        print(str(negative) + \"% people thought it was negative\")\r\n",
        "        print(str(wnegative) + \"% people thought it was weakly negative\")\r\n",
        "        print(str(snegative) + \"% people thought it was strongly negative\")\r\n",
        "        print(str(neutral) + \"% people thought it was neutral\")\r\n",
        "\r\n",
        "        self.plotPieChart(positive, wpositive, spositive, negative, wnegative, snegative, neutral, searchTerm, NoOfTerms)\r\n",
        "\r\n",
        "\r\n",
        "    def cleanTweet(self, tweet):\r\n",
        "        # Remove Links, Special Characters etc from tweet\r\n",
        "        return ' '.join(re.sub(\"(@[A-Za-z0-9]+)|([^0-9A-Za-z \\t]) | (\\w +:\\ / \\ / \\S +)\", \" \", tweet).split())\r\n",
        "\r\n",
        "    # function to calculate percentage\r\n",
        "    def percentage(self, part, whole):\r\n",
        "        temp = 100 * float(part) / float(whole)\r\n",
        "        return format(temp, '.2f')\r\n",
        "\r\n",
        "    def plotPieChart(self, positive, wpositive, spositive, negative, wnegative, snegative, neutral, searchTerm, noOfSearchTerms):\r\n",
        "        labels = ['Positive [' + str(positive) + '%]', 'Weakly Positive [' + str(wpositive) + '%]','Strongly Positive [' + str(spositive) + '%]', 'Neutral [' + str(neutral) + '%]',\r\n",
        "                  'Negative [' + str(negative) + '%]', 'Weakly Negative [' + str(wnegative) + '%]', 'Strongly Negative [' + str(snegative) + '%]']\r\n",
        "        sizes = [positive, wpositive, spositive, neutral, negative, wnegative, snegative]\r\n",
        "        colors = ['yellowgreen','lightgreen','darkgreen', 'gold', 'red','lightsalmon','darkred']\r\n",
        "        patches, texts = plt.pie(sizes, colors=colors, startangle=90)\r\n",
        "        plt.legend(patches, labels, loc=\"best\")\r\n",
        "        plt.title('How people are reacting on ' + searchTerm + ' by analyzing ' + str(noOfSearchTerms) + ' Tweets.')\r\n",
        "        plt.axis('equal')\r\n",
        "        plt.tight_layout()\r\n",
        "        plt.show()\r\n",
        "\r\n",
        "\r\n",
        "\r\n",
        "if __name__== \"__main__\":\r\n",
        "    sa = SentimentAnalysis()\r\n",
        "    sa.DownloadData()"
      ],
      "execution_count": 6,
      "outputs": [
        {
          "output_type": "stream",
          "text": [
            "Enter Keyword/Tag to search about: #WhatsappNewPrivacyPolicy\n",
            "Enter how many tweets to search: 500\n",
            "How people are reacting on #WhatsappNewPrivacyPolicy by analyzing 500 tweets.\n",
            "\n",
            "General Report: \n",
            "Strongly Positive\n",
            "\n",
            "Detailed Report: \n",
            "3.80% people thought it was positive\n",
            "12.00% people thought it was weakly positive\n",
            "62.80% people thought it was strongly positive\n",
            "0.20% people thought it was negative\n",
            "2.40% people thought it was weakly negative\n",
            "0.60% people thought it was strongly negative\n",
            "18.20% people thought it was neutral\n"
          ],
          "name": "stdout"
        },
        {
          "output_type": "display_data",
          "data": {
            "image/png": "[encoded data removed]",
            "text/plain": [
              "<Figure size 432x288 with 1 Axes>"
            ]
          },
          "metadata": {
            "tags": []
          }
        }
      ]
    },
    {
      "cell_type": "code",
      "metadata": {
        "id": "rc1uXrZjRu-6"
      },
      "source": [
        ""
      ],
      "execution_count": null,
      "outputs": []
    }
  ]
}
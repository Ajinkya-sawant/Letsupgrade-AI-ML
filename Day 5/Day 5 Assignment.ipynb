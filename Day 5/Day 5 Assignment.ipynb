{
 "cells": [
  {
   "cell_type": "markdown",
   "metadata": {
    "collapsed": false
   },
   "source": [
    "**Question 1 :\n",
    "Write a Python program to find the first 20 non-even prime natural numbers**"
   ]
  },
  {
   "cell_type": "code",
   "execution_count": 3,
   "metadata": {
    "collapsed": false,
    "scrolled": true
   },
   "outputs": [
    {
     "name": "stdout",
     "output_type": "stream",
     "text": [
      "The first 20 non-even prime number are :\n",
      "\n",
      "3 5 7 11 13 17 19 23 29 31 37 41 43 47 53 59 61 67 71 73 "
     ]
    }
   ],
   "source": [
    "count=0\n",
    "i=1\n",
    "print(\"The first 20 non-even prime number are :\\n\")\n",
    "while count!=20:\n",
    "    flag=0\n",
    "    i+=2\n",
    "    for x in range(2,i):\n",
    "        if i%x==0:\n",
    "            flag=1\n",
    "            break\n",
    "    if flag==0:\n",
    "        print(i,end=\" \")\n",
    "        count+=1"
   ]
  },
  {
   "cell_type": "code",
   "execution_count": 0,
   "metadata": {
    "collapsed": false
   },
   "outputs": [
   ],
   "source": [
   ]
  },
  {
   "cell_type": "markdown",
   "metadata": {
    "collapsed": false
   },
   "source": [
    "**Question 2 :  Write a Python program to implement 15 functions of string**"
   ]
  },
  {
   "cell_type": "code",
   "execution_count": 13,
   "metadata": {
    "collapsed": false
   },
   "outputs": [
    {
     "name": "stdout",
     "output_type": "stream",
     "text": [
      "Using various String function on \"machine learning\" \n",
      "\n",
      "\n",
      "Using capitalize Function output is :- Machine learning  \n",
      "Using isalnum Function output is    :- False\n",
      "Using isalpha Function output is    :- False\n",
      "Using isdigit Function output is    :- False\n",
      "Using isupper Function output is    :- False\n",
      "Using islower Function output is    :- True\n",
      "Using index Function output is      :- 6\n",
      "Using swapcase Function output is   :- MACHINE LEARNING  \n",
      "Using isspace Function output is    :- False\n",
      "Using find Function output is       :- 9\n",
      "Using lower Function output is      :- machine learning  \n",
      "Using upper Function output is      :- MACHINE LEARNING  \n",
      "Using replace Function output is    :- machins lsarning  \n",
      "Using expandtabs Function output is :- machine learning  \n",
      "Using count Function output is      :- 2\n"
     ]
    }
   ],
   "source": [
    "s = \"machine learning  \"\n",
    "print(\"Using various String function on \\\"machine learning\\\" \")\n",
    "print(\"\\n\")\n",
    "print(\"Using capitalize Function output is :-\", s.capitalize())\n",
    "print(\"Using isalnum Function output is    :-\", s.isalnum())\n",
    "print(\"Using isalpha Function output is    :-\", s.isalpha())\n",
    "print(\"Using isdigit Function output is    :-\", s.isdigit())\n",
    "print(\"Using isupper Function output is    :-\", s.isupper())\n",
    "print(\"Using islower Function output is    :-\", s.islower())\n",
    "print(\"Using index Function output is      :-\", s.index(\"e\"))\n",
    "print(\"Using swapcase Function output is   :-\", s.swapcase())\n",
    "print(\"Using isspace Function output is    :-\", s.isspace())\n",
    "print(\"Using find Function output is       :-\", s.find('earn'))\n",
    "print(\"Using lower Function output is      :-\", s.lower())\n",
    "print(\"Using upper Function output is      :-\", s.upper())\n",
    "print(\"Using replace Function output is    :-\", s.replace('e','s'))\n",
    "print(\"Using expandtabs Function output is :-\", s.expandtabs(4))\n",
    "print(\"Using count Function output is      :-\", s.count('e'))\n",
    "\n"
   ]
  },
  {
   "cell_type": "markdown",
   "metadata": {
    "collapsed": false
   },
   "source": [
    "**Question 3:\n",
    "Write a Python program to check if the given string is a Palindrome or Anagram or None of them.\n",
    "Display the message accordingly to the user.**\n"
   ]
  },
  {
   "cell_type": "code",
   "execution_count": 3,
   "metadata": {
    "cocalc": {
     "outputs": {
      "0": {
       "name": "input",
       "opts": {
        "password": false,
        "prompt": "Enter String"
       },
       "output_type": "stream",
       "value": "listen"
      }
     }
    },
    "collapsed": false
   },
   "outputs": [
    {
     "name": "stdout",
     "output_type": "stream",
     "text": "Enter String listen"
    },
    {
     "name": "stdout",
     "output_type": "stream",
     "text": [
      "\n",
      "The string is anagrams.\n",
      "\n",
      " The string is not palindrome\n"
     ]
    }
   ],
   "source": [
    "def check(s1): \n",
    "    \n",
    "    if(sorted(s1)== sorted(s1)): \n",
    "        print(\"\\nThe string is anagrams.\")  \n",
    "    else: \n",
    "        print(\"\\n The strings is not  anagrams.\")          \n",
    "    if s1==s1[::-1]:\n",
    "        print(\"\\n The string is palindrome.\") \n",
    "    else:\n",
    "        print(\"\\n The string is not palindrome\")\n",
    "s1 =input(\"Enter String\")\n",
    "check(s1) \n"
   ]
  },
  {
   "cell_type": "code",
   "execution_count": 0,
   "metadata": {
    "collapsed": false
   },
   "outputs": [
   ],
   "source": [
   ]
  },
  {
   "cell_type": "markdown",
   "metadata": {
    "collapsed": false
   },
   "source": [
    "**Question 4:\n",
    "Write a Python's user defined function that removes all the additional characters from the string\n",
    "and converts it finally to lower case using built-in lower(). eg: If the string is \"Dr. Darshan Ingle\n",
    "@AI-ML Trainer\", then the output be \"drdarshaningleaimltrainer\".**"
   ]
  },
  {
   "cell_type": "code",
   "execution_count": 18,
   "metadata": {
    "cocalc": {
     "outputs": {
      "0": {
       "name": "input",
       "opts": {
        "password": false,
        "prompt": "Enter the String"
       },
       "output_type": "stream",
       "value": "Mach@ine Le#arning    "
      }
     }
    },
    "collapsed": false
   },
   "outputs": [
    {
     "name": "stdout",
     "output_type": "stream",
     "text": "Enter the String Mach@ine Le#arning    "
    },
    {
     "name": "stdout",
     "output_type": "stream",
     "text": [
      "machinelearning\n"
     ]
    }
   ],
   "source": [
    "def checkstr(a):\n",
    "    s1=''\n",
    "    for i in a:\n",
    "        if (i.isalpha()):\n",
    "            s1=s1+i.lower()\n",
    "    return s1    \n",
    "\n",
    "a=input(\"Enter the String\")\n",
    "print(checkstr(a))"
   ]
  },
  {
   "cell_type": "code",
   "execution_count": 0,
   "metadata": {
    "collapsed": false
   },
   "outputs": [
   ],
   "source": [
   ]
  }
 ],
 "metadata": {
  "kernelspec": {
   "display_name": "Python 3 (system-wide)",
   "language": "python",
   "metadata": {
    "cocalc": {
     "description": "Python 3 programming language",
     "priority": 100,
     "url": "https://www.python.org/"
    }
   },
   "name": "python3"
  },
  "language_info": {
   "codemirror_mode": {
    "name": "ipython",
    "version": 3
   },
   "file_extension": ".py",
   "mimetype": "text/x-python",
   "name": "python",
   "nbconvert_exporter": "python",
   "pygments_lexer": "ipython3",
   "version": "3.6.9"
  }
 },
 "nbformat": 4,
 "nbformat_minor": 4
}
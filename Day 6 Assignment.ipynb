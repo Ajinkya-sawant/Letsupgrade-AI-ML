{
 "cells": [
  {
   "cell_type": "markdown",
   "metadata": {},
   "source": [
    "__Question 1:\n",
    "Assuming that we have some email addresses in the \"username@companyname.com\" format, please write program to print the company name of a given email address. Both user names and company names are composed of letters only.__"
   ]
  },
  {
   "cell_type": "code",
   "execution_count": 10,
   "metadata": {},
   "outputs": [
    {
     "name": "stdout",
     "output_type": "stream",
     "text": [
      "Enter the email address:Mihira@yahoo.com\n",
      "Output is: yahoo\n"
     ]
    }
   ],
   "source": [
    "email=input(\"Enter the email address:\")\n",
    "first=(email.partition(\"@\"))\n",
    "second=first[2]\n",
    "d=(second.partition(\".\"))\n",
    "email_alias=(d[0])\n",
    "print(\"Output is:\",email_alias)"
   ]
  },
  {
   "cell_type": "markdown",
   "metadata": {},
   "source": [
    "__Question 2:\n",
    "Write a program that accepts a comma-separated sequence of words as input and prints the words in a comma separated sequence after sorting them alphabetically.\n",
    "Input Format:\n",
    "The first line of input contains words separated by the comma.\n",
    "Output Format:\n",
    "Print the sorted words separated by the comma.\n",
    "Example:\n",
    "Input:\n",
    "without,hello,bag,world\n",
    "Output:\n",
    "bag,hello,without,world__"
   ]
  },
  {
   "cell_type": "code",
   "execution_count": 22,
   "metadata": {},
   "outputs": [
    {
     "name": "stdout",
     "output_type": "stream",
     "text": [
      "Input comma separated sequence of words:welcome,to,the,new,learning,platform\n",
      "After Sorting the words:\n",
      "learning,new,platform,the,to,welcome\n"
     ]
    }
   ],
   "source": [
    "items = input(\"Input comma separated sequence of words:\")\n",
    "words = [word for word in items.split(\",\")]\n",
    "print(\"After Sorting the words:\")\n",
    "print(\",\".join(sorted(words)))"
   ]
  },
  {
   "cell_type": "markdown",
   "metadata": {},
   "source": [
    "__Question 3:Create your own Jupyter Notebook for Sets.__"
   ]
  },
  {
   "cell_type": "markdown",
   "metadata": {},
   "source": [
    "__Sets__  \n",
    "A set is a collection which is unordered and unindexed. In Python sets are written with curly brackets { }."
   ]
  },
  {
   "cell_type": "markdown",
   "metadata": {},
   "source": [
    "__Creating a Set:__"
   ]
  },
  {
   "cell_type": "code",
   "execution_count": 46,
   "metadata": {},
   "outputs": [
    {
     "name": "stdout",
     "output_type": "stream",
     "text": [
      "Created List is: {'Innova', 'BMW', 'Volvo'}\n"
     ]
    }
   ],
   "source": [
    "elements={\"BMW\",\"Innova\",\"Volvo\"}\n",
    "print(\"Created List is:\",elements)"
   ]
  },
  {
   "cell_type": "markdown",
   "metadata": {},
   "source": [
    "__Access Items in list__  \n",
    "As list is unordered and unindexed,we can access elements using __for loop__ or else we can check if perticular element is present in the list using __in keyword__."
   ]
  },
  {
   "cell_type": "code",
   "execution_count": 48,
   "metadata": {},
   "outputs": [
    {
     "name": "stdout",
     "output_type": "stream",
     "text": [
      "Innova\n",
      "BMW\n",
      "Volvo\n"
     ]
    }
   ],
   "source": [
    "elements={\"BMW\",\"Innova\",\"Volvo\"}\n",
    "for x in elements:\n",
    "  print(x)"
   ]
  },
  {
   "cell_type": "markdown",
   "metadata": {},
   "source": [
    "Use of __in keyword:__"
   ]
  },
  {
   "cell_type": "code",
   "execution_count": 49,
   "metadata": {},
   "outputs": [
    {
     "name": "stdout",
     "output_type": "stream",
     "text": [
      "True\n"
     ]
    }
   ],
   "source": [
    "elements={\"BMW\",\"Innova\",\"Volvo\"}\n",
    "print(\"BMW\" in elements)"
   ]
  },
  {
   "cell_type": "markdown",
   "metadata": {},
   "source": [
    "__Add Items:__  \n",
    "To add __one item__ to a set use the __add()__ method.  \n",
    "To add __more than one item__ to a set use the __update()__ method."
   ]
  },
  {
   "cell_type": "code",
   "execution_count": 53,
   "metadata": {},
   "outputs": [
    {
     "name": "stdout",
     "output_type": "stream",
     "text": [
      "{'Innova', 'BMW', 'Volvo', 'Ford'}\n"
     ]
    }
   ],
   "source": [
    "elements={\"BMW\",\"Innova\",\"Volvo\"}\n",
    "elements.add(\"Ford\")\n",
    "print(elements)"
   ]
  },
  {
   "cell_type": "code",
   "execution_count": 54,
   "metadata": {},
   "outputs": [
    {
     "name": "stdout",
     "output_type": "stream",
     "text": [
      "{'i10', 'Innova', 'Volvo', 'Swift', 'i20', 'BMW'}\n"
     ]
    }
   ],
   "source": [
    "elements={\"BMW\",\"Innova\",\"Volvo\"}\n",
    "elements.update([\"i20\", \"Swift\", \"i10\"])\n",
    "print(elements)"
   ]
  },
  {
   "cell_type": "markdown",
   "metadata": {},
   "source": [
    "__Length of a Set:__  \n",
    "To determine how many items a set has, use the __len()__ method."
   ]
  },
  {
   "cell_type": "code",
   "execution_count": 55,
   "metadata": {},
   "outputs": [
    {
     "name": "stdout",
     "output_type": "stream",
     "text": [
      "3\n"
     ]
    }
   ],
   "source": [
    "elements={\"BMW\",\"Innova\",\"Volvo\"}\n",
    "print(len(elements))"
   ]
  },
  {
   "cell_type": "code",
   "execution_count": null,
   "metadata": {},
   "outputs": [],
   "source": []
  },
  {
   "cell_type": "markdown",
   "metadata": {},
   "source": [
    "__Question 4: Given a list of n-1 numbers ranging from 1 to n, your task is to find the missing number. There are no duplicates.__"
   ]
  },
  {
   "cell_type": "code",
   "execution_count": 39,
   "metadata": {},
   "outputs": [
    {
     "name": "stdout",
     "output_type": "stream",
     "text": [
      "Enter the numbers separated by a space.:1 2 5 3 6 7\n",
      "The missing number in the given list is:  4\n"
     ]
    }
   ],
   "source": [
    "num = input(\"Enter the numbers separated by a space.:\")\n",
    "l = num.split(' ')\n",
    "l.sort()\n",
    "for i in range(len(l)):\n",
    "    if i+1 == int(l[i]):\n",
    "        continue\n",
    "    else:\n",
    "        print(\"The missing number in the given list is: \",i+1)\n",
    "        break"
   ]
  },
  {
   "cell_type": "markdown",
   "metadata": {},
   "source": [
    "__Question 5:\n",
    "With a given list L, write a program to print this list L after removing all duplicate values with original order reserved.\n",
    "Example:\n",
    "If the input list is\n",
    "12 24 35 24 88 120 155 88 120 155\n",
    "Then the output should be\n",
    "12 24 35 88 120 155__"
   ]
  },
  {
   "cell_type": "code",
   "execution_count": 42,
   "metadata": {},
   "outputs": [
    {
     "name": "stdout",
     "output_type": "stream",
     "text": [
      "Enter the numbers:12 24 35 24 88 120 155 88 120 155\n",
      "output is:\n",
      "12 24 35 88 120 155 "
     ]
    }
   ],
   "source": [
    "s = input(\"Enter the numbers:\")\n",
    "k = s.split(' ')\n",
    "l=[]\n",
    "for i in range(len(k)):\n",
    "   l.append(int(k[i])) \n",
    "l.sort()\n",
    "m=[]\n",
    "for i in range(len(l)-1):\n",
    "    if l[i] != l[i+1]:\n",
    "        m.append(l[i])    \n",
    "m.append(l[-1])\n",
    "print(\"output is:\")\n",
    "for i in m:\n",
    "    print(i,end=' ')"
   ]
  },
  {
   "cell_type": "code",
   "execution_count": null,
   "metadata": {},
   "outputs": [],
   "source": []
  }
 ],
 "metadata": {
  "kernelspec": {
   "display_name": "Python 3",
   "language": "python",
   "name": "python3"
  },
  "language_info": {
   "codemirror_mode": {
    "name": "ipython",
    "version": 3
   },
   "file_extension": ".py",
   "mimetype": "text/x-python",
   "name": "python",
   "nbconvert_exporter": "python",
   "pygments_lexer": "ipython3",
   "version": "3.7.6"
  }
 },
 "nbformat": 4,
 "nbformat_minor": 4
}

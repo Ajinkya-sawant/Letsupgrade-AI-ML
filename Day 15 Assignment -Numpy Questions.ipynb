{
 "cells": [
  {
   "cell_type": "markdown",
   "metadata": {
    "collapsed": false
   },
   "source": [
    "# 1. Create a 3x3x3 array with random values "
   ]
  },
  {
   "cell_type": "code",
   "execution_count": 1,
   "metadata": {
    "collapsed": false
   },
   "outputs": [
    {
     "name": "stdout",
     "output_type": "stream",
     "text": [
      "[[[1 2 3]\n",
      "  [2 3 4]\n",
      "  [1 3 4]]\n",
      "\n",
      " [[2 3 4]\n",
      "  [5 7 6]\n",
      "  [3 7 8]]\n",
      "\n",
      " [[5 8 9]\n",
      "  [2 6 4]\n",
      "  [2 7 3]]]\n",
      "\n",
      " Type of a is\n",
      "<class 'numpy.ndarray'>\n",
      "\n",
      " shape of a is\n",
      "(3, 3, 3)\n"
     ]
    }
   ],
   "source": [
    "#method 1\n",
    "\n",
    "import numpy as np\n",
    "a=np.array([[[1,2,3],[2,3,4],[1,3,4]],[[2,3,4],[5,7,6],[3,7,8]],[[5,8,9],[2,6,4],[2,7,3]]])\n",
    "print(a)\n",
    "print(\"\\n Type of a is\")\n",
    "print(type(a))\n",
    "print(\"\\n shape of a is\")\n",
    "print(a.shape)"
   ]
  },
  {
   "cell_type": "code",
   "execution_count": 10,
   "metadata": {
    "collapsed": false
   },
   "outputs": [
    {
     "data": {
      "text/plain": [
       "array([[[0.43086153, 0.68402537, 0.41471171],\n",
       "        [0.17573344, 0.95783677, 0.74858361],\n",
       "        [0.41852138, 0.32736936, 0.60356165]],\n",
       "\n",
       "       [[0.66719324, 0.92659102, 0.55035532],\n",
       "        [0.30574002, 0.444636  , 0.44761093],\n",
       "        [0.18231764, 0.17007034, 0.21183014]],\n",
       "\n",
       "       [[0.05585473, 0.31006541, 0.90371559],\n",
       "        [0.93548266, 0.07468611, 0.47002137],\n",
       "        [0.31587646, 0.7018306 , 0.58855784]]])"
      ]
     },
     "execution_count": 10,
     "metadata": {
     },
     "output_type": "execute_result"
    }
   ],
   "source": [
    "#method 2\n",
    "\n",
    "np.random.random((3,3,3))"
   ]
  },
  {
   "cell_type": "code",
   "execution_count": 0,
   "metadata": {
    "collapsed": false
   },
   "outputs": [
   ],
   "source": [
   ]
  },
  {
   "cell_type": "markdown",
   "metadata": {
    "collapsed": false
   },
   "source": [
    "# 2.Create a 5x5 matrix with values 1,2,3,4 just below the diagonal"
   ]
  },
  {
   "cell_type": "code",
   "execution_count": 14,
   "metadata": {
    "collapsed": false
   },
   "outputs": [
    {
     "name": "stdout",
     "output_type": "stream",
     "text": [
      "[[1. 0. 0. 0. 0.]\n",
      " [1. 1. 0. 0. 0.]\n",
      " [0. 2. 1. 0. 0.]\n",
      " [0. 0. 3. 1. 0.]\n",
      " [0. 0. 0. 4. 1.]]\n"
     ]
    }
   ],
   "source": [
    "a1=np.eye(5,5)\n",
    "a1[1][0] +=1\n",
    "a1[2][1] +=2\n",
    "a1[3][2] +=3\n",
    "a1[4][3] +=4\n",
    "print(a1)"
   ]
  },
  {
   "cell_type": "markdown",
   "metadata": {
    "collapsed": false
   },
   "source": [
    "# 3.Create a 8x8 matrix and fill it with a checkerboard pattern"
   ]
  },
  {
   "cell_type": "code",
   "execution_count": 16,
   "metadata": {
    "collapsed": false
   },
   "outputs": [
    {
     "name": "stdout",
     "output_type": "stream",
     "text": [
      "[[1. 0. 1. 0. 1. 0. 1. 0.]\n",
      " [0. 1. 0. 1. 0. 1. 0. 1.]\n",
      " [1. 0. 1. 0. 1. 0. 1. 0.]\n",
      " [0. 1. 0. 1. 0. 1. 0. 1.]\n",
      " [1. 0. 1. 0. 1. 0. 1. 0.]\n",
      " [0. 1. 0. 1. 0. 1. 0. 1.]\n",
      " [1. 0. 1. 0. 1. 0. 1. 0.]\n",
      " [0. 1. 0. 1. 0. 1. 0. 1.]]\n"
     ]
    }
   ],
   "source": [
    "a2=np.zeros((8,8))\n",
    "for i in range(8):\n",
    "    for j in range(8):\n",
    "        if(i+j)%2==0:\n",
    "            a2[i][j]=1\n",
    "print(a2)"
   ]
  },
  {
   "cell_type": "markdown",
   "metadata": {
    "collapsed": false
   },
   "source": [
    "# 4. Normalize a 5x5 random matrix"
   ]
  },
  {
   "cell_type": "code",
   "execution_count": 25,
   "metadata": {
    "collapsed": false
   },
   "outputs": [
    {
     "name": "stdout",
     "output_type": "stream",
     "text": [
      "\n",
      " Original Array\n",
      "\n",
      " [[0.41644344 0.95664518 0.7358861  0.90777801 0.2888118 ]\n",
      " [0.96674289 0.41167143 0.1178943  0.74728624 0.62951313]\n",
      " [0.57426772 0.42390636 0.55417618 0.19316228 0.67413645]\n",
      " [0.20216913 0.00165967 0.46273045 0.98585186 0.54885582]\n",
      " [0.20825824 0.87108994 0.15182381 0.12796957 0.74142698]]\n",
      "\n",
      " After Normalization\n",
      "\n",
      " [[0.4214459  0.97032421 0.74601936 0.92067215 0.29176428]\n",
      " [0.9805841  0.41659725 0.11810155 0.7576026  0.63793786]\n",
      " [0.58180511 0.42902869 0.56139087 0.19457847 0.68327791]\n",
      " [0.20372998 0.         0.46847636 1.         0.55598505]\n",
      " [0.2099169  0.8833948  0.15257603 0.12833865 0.75164924]]\n"
     ]
    }
   ],
   "source": [
    "a3=np.random.random((5,5))\n",
    "print(\"\\n Original Array\")\n",
    "print(\"\\n\",a3)\n",
    "max=a3.max()\n",
    "min=a3.min()\n",
    "a3=(a3-min)/(max-min)\n",
    "print(\"\\n After Normalization\")\n",
    "print(\"\\n\",a3)"
   ]
  },
  {
   "cell_type": "markdown",
   "metadata": {
    "collapsed": false
   },
   "source": [
    "# 5.  How to find common values between two arrays?"
   ]
  },
  {
   "cell_type": "code",
   "execution_count": 27,
   "metadata": {
    "collapsed": false
   },
   "outputs": [
    {
     "name": "stdout",
     "output_type": "stream",
     "text": [
      "First Array [1 2 3 4]\n",
      "\n",
      " Second Array [2 4 5 6]\n",
      "\n",
      " Common values between two Arrays:\n",
      "\n",
      " [2 4]\n"
     ]
    }
   ],
   "source": [
    "a5=np.array([1,2,3,4])\n",
    "print(\"First Array\",a5)\n",
    "a6=np.array([2,4,5,6])\n",
    "print(\"\\n Second Array\",a6)\n",
    "print(\"\\n Common values between two Arrays:\")\n",
    "print(\"\\n\",np.intersect1d(a5,a6))\n"
   ]
  },
  {
   "cell_type": "markdown",
   "metadata": {
    "collapsed": false
   },
   "source": [
    "# 6.How to get the dates of yesterday, today and tomorrow?"
   ]
  },
  {
   "cell_type": "code",
   "execution_count": 29,
   "metadata": {
    "collapsed": false
   },
   "outputs": [
    {
     "name": "stdout",
     "output_type": "stream",
     "text": [
      "yesterday's date is 2020-07-25\n",
      "\n",
      " Today's date is  2020-07-26\n",
      "\n",
      " Tomorrow's date is 2020-07-27\n"
     ]
    }
   ],
   "source": [
    "Yesterday=np.datetime64('today')-np.timedelta64(1)\n",
    "print(\"yesterday's date is\",Yesterday)\n",
    "today =np.datetime64('today')\n",
    "print(\"\\n Today's date is \",today)\n",
    "Tomorrow=np.datetime64('today')+np.timedelta64(1)\n",
    "print(\"\\n Tomorrow's date is\",Tomorrow)"
   ]
  },
  {
   "cell_type": "markdown",
   "metadata": {
    "collapsed": false
   },
   "source": [
    "# 7. Consider two random array A and B, check if they are equal"
   ]
  },
  {
   "cell_type": "code",
   "execution_count": 30,
   "metadata": {
    "collapsed": false
   },
   "outputs": [
    {
     "name": "stdout",
     "output_type": "stream",
     "text": [
      "False\n",
      "[[False False]\n",
      " [False False]]\n"
     ]
    }
   ],
   "source": [
    "a7=np.random.random((2,2))\n",
    "a8=np.random.random((2,2))\n",
    "print((a7==a8).all())     # To check Matrix wise\n",
    "print((a7==a8))           # To check Element Wise\n"
   ]
  },
  {
   "cell_type": "markdown",
   "metadata": {
    "collapsed": false
   },
   "source": [
    "# 8.Create random vector of size 10 and replace the maximum value by 0 "
   ]
  },
  {
   "cell_type": "code",
   "execution_count": 34,
   "metadata": {
    "collapsed": false
   },
   "outputs": [
    {
     "name": "stdout",
     "output_type": "stream",
     "text": [
      "\n",
      " Original Vector\n",
      " [0.84510979 0.15164213 0.97778043 0.51468545 0.49120222 0.51919307\n",
      " 0.06763384 0.00409304 0.60931188 0.69328636]\n",
      "\n",
      " Max value  0.9777804278764572\n",
      "\n",
      " After Replacement\n",
      "\n",
      " [0.84510979 0.15164213 0.         0.51468545 0.49120222 0.51919307\n",
      " 0.06763384 0.00409304 0.60931188 0.69328636]\n"
     ]
    }
   ],
   "source": [
    "#method 1\n",
    "\n",
    "a9=np.random.random(10)\n",
    "print(\"\\n Original Vector\\n\",a9)\n",
    "max=a9.max()\n",
    "print(\"\\n Max value \",max)\n",
    "for i in range(len(a9)):\n",
    "    if(a9[i]==max):\n",
    "        a9[i]=0\n",
    "print(\"\\n After Replacement\")\n",
    "print(\"\\n\",a9)"
   ]
  },
  {
   "cell_type": "code",
   "execution_count": 36,
   "metadata": {
    "collapsed": false
   },
   "outputs": [
    {
     "name": "stdout",
     "output_type": "stream",
     "text": [
      "\n",
      " Original Vector\n",
      " [0.73569769 0.29166479 0.33685352 0.45847852 0.90399523 0.12102614\n",
      " 0.84225845 0.80425461 0.3421082  0.61179218]\n",
      "\n",
      " After Replacement\n",
      "[0.73569769 0.29166479 0.33685352 0.45847852 0.         0.12102614\n",
      " 0.84225845 0.80425461 0.3421082  0.61179218]\n"
     ]
    }
   ],
   "source": [
    "# method 2\n",
    "\n",
    "a9=np.random.random(10)\n",
    "print(\"\\n Original Vector\\n\",a9)\n",
    "a9[a9.argmax()]=0\n",
    "print(\"\\n After Replacement\")\n",
    "print(a9)"
   ]
  },
  {
   "cell_type": "code",
   "execution_count": 0,
   "metadata": {
    "collapsed": false
   },
   "outputs": [
   ],
   "source": [
   ]
  },
  {
   "cell_type": "markdown",
   "metadata": {
    "collapsed": false
   },
   "source": [
    "# 9. How to print all the values of an array?"
   ]
  },
  {
   "cell_type": "code",
   "execution_count": 9,
   "metadata": {
    "collapsed": false
   },
   "outputs": [
    {
     "name": "stdout",
     "output_type": "stream",
     "text": [
      "[1 2 3]\n",
      "[2 3 4]\n",
      "[1 3 4]\n",
      "[2 3 4]\n",
      "[5 7 6]\n",
      "[3 7 8]\n"
     ]
    }
   ],
   "source": [
    "a10=np.array([[[1,2,3],[2,3,4],[1,3,4]],[[2,3,4],[5,7,6],[3,7,8]]])\n",
    "for i in range(a10.shape[0]):\n",
    "    for j in range(a10.shape[1]):\n",
    "        print(a10[i][j])"
   ]
  },
  {
   "cell_type": "markdown",
   "metadata": {
    "collapsed": false
   },
   "source": [
    "# 10.Subtract the mean of each row of a matrix"
   ]
  },
  {
   "cell_type": "code",
   "execution_count": 2,
   "metadata": {
    "collapsed": false
   },
   "outputs": [
    {
     "name": "stdout",
     "output_type": "stream",
     "text": [
      "before subtraction:\n",
      "[[1 2 3 4]\n",
      " [5 6 7 8]\n",
      " [1 3 4 5]]\n",
      "after subtraction:\n",
      "[[-1.5  -0.5   0.5   1.5 ]\n",
      " [-1.5  -0.5   0.5   1.5 ]\n",
      " [-2.25 -0.25  0.75  1.75]]\n"
     ]
    }
   ],
   "source": [
    "s=np.array([[1,2,3,4],[5,6,7,8],[1,3,4,5]])\n",
    "print(\"before subtraction:\")\n",
    "print(s)\n",
    "t=s-s.mean(axis=1,keepdims=True)\n",
    "print(\"after subtraction:\")\n",
    "print(t)"
   ]
  },
  {
   "cell_type": "markdown",
   "metadata": {
    "collapsed": false
   },
   "source": [
    "# 11.Consider a given vector, how to add 1 to each element indexed by a second vector (be careful with repeated indices)? "
   ]
  },
  {
   "cell_type": "code",
   "execution_count": 3,
   "metadata": {
    "collapsed": false
   },
   "outputs": [
    {
     "name": "stdout",
     "output_type": "stream",
     "text": [
      "[1 2 4 5 6 7 8 9]\n"
     ]
    }
   ],
   "source": [
    "b=np.array([1,2,3,4,5,6,7,8])\n",
    "b[2:]+=1\n",
    "print(b)"
   ]
  },
  {
   "cell_type": "code",
   "execution_count": 0,
   "metadata": {
    "collapsed": false
   },
   "outputs": [
   ],
   "source": [
   ]
  },
  {
   "cell_type": "markdown",
   "metadata": {
    "collapsed": false
   },
   "source": [
    "# 12.How to get the diagonal of a dot product?"
   ]
  },
  {
   "cell_type": "code",
   "execution_count": 4,
   "metadata": {
    "collapsed": false
   },
   "outputs": [
    {
     "name": "stdout",
     "output_type": "stream",
     "text": [
      "[19 50]\n"
     ]
    }
   ],
   "source": [
    "c=np.array([[1,2],[3,4]])\n",
    "d=np.array([[5,6],[7,8]])\n",
    "e=np.diagonal(c.dot(d))\n",
    "print(e)"
   ]
  },
  {
   "cell_type": "markdown",
   "metadata": {
    "collapsed": false
   },
   "source": [
    "# 13.How to find the most frequent value in an array?"
   ]
  },
  {
   "cell_type": "code",
   "execution_count": 5,
   "metadata": {
    "collapsed": false
   },
   "outputs": [
    {
     "name": "stdout",
     "output_type": "stream",
     "text": [
      "[1 2 1 4 1 5 1 6]\n",
      "most frequent value in the array:\n",
      "1\n"
     ]
    }
   ],
   "source": [
    "f=np.array([1,2,1,4,1,5,1,6])\n",
    "print(f)\n",
    "print(\"most frequent value in the array:\")\n",
    "print(np.bincount(f).argmax())"
   ]
  },
  {
   "cell_type": "markdown",
   "metadata": {
    "collapsed": false
   },
   "source": [
    "# 14.How to get the n largest values of an array"
   ]
  },
  {
   "cell_type": "code",
   "execution_count": 7,
   "metadata": {
    "collapsed": false
   },
   "outputs": [
    {
     "name": "stdout",
     "output_type": "stream",
     "text": [
      "[1 2 3 4 5 6 7 8]\n",
      "[8]\n"
     ]
    }
   ],
   "source": [
    "w=np.array([1,2,3,4,5,6,7,8])\n",
    "print(w)\n",
    "n=1\n",
    "print(w[np.argsort(w)[-n:]])\n"
   ]
  },
  {
   "cell_type": "markdown",
   "metadata": {
    "collapsed": false
   },
   "source": [
    "# 15.How to create a record array from a regular array?"
   ]
  },
  {
   "cell_type": "code",
   "execution_count": 9,
   "metadata": {
    "collapsed": false
   },
   "outputs": [
    {
     "name": "stdout",
     "output_type": "stream",
     "text": [
      "[(10, 'Orange', 12.2) (20, 'Grape', 15. ) (30, 'Banana', 20. )\n",
      " (40, 'Apple', 40. )]\n"
     ]
    }
   ],
   "source": [
    "a1=np.array([10,20,30,40])\n",
    "a2=np.array(['Orange','Grape','Banana','Apple'])\n",
    "a3=np.array([12.20,15,20,40])\n",
    "result= np.core.records.fromarrays([a1, a2, a3])\n",
    "print(result)"
   ]
  },
  {
   "cell_type": "code",
   "execution_count": 0,
   "metadata": {
    "collapsed": false
   },
   "outputs": [
   ],
   "source": [
   ]
  }
 ],
 "metadata": {
  "kernelspec": {
   "display_name": "Python 3 (system-wide)",
   "language": "python",
   "metadata": {
    "cocalc": {
     "description": "Python 3 programming language",
     "priority": 100,
     "url": "https://www.python.org/"
    }
   },
   "name": "python3"
  },
  "language_info": {
   "codemirror_mode": {
    "name": "ipython",
    "version": 3
   },
   "file_extension": ".py",
   "mimetype": "text/x-python",
   "name": "python",
   "nbconvert_exporter": "python",
   "pygments_lexer": "ipython3",
   "version": "3.6.9"
  }
 },
 "nbformat": 4,
 "nbformat_minor": 4
}
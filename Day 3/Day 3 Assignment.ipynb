{
 "cells": [
  {
   "cell_type": "markdown",
   "metadata": {
    "collapsed": false
   },
   "source": [
    "**Question 1 :\n",
    "Write a program to subtract two complex numbers in Python.**"
   ]
  },
  {
   "cell_type": "code",
   "execution_count": 1,
   "metadata": {
    "collapsed": false
   },
   "outputs": [
    {
     "name": "stdout",
     "output_type": "stream",
     "text": [
      "The subtraction  of two complex number  (1+2j) & (2+3j) is (-1-1j)\n"
     ]
    }
   ],
   "source": [
    "a=1+2j\n",
    "b=2+3j\n",
    "c=a-b\n",
    "print(\"The subtraction  of two complex number \",a , \"&\", b ,\"is\", c ,)"
   ]
  },
  {
   "cell_type": "markdown",
   "metadata": {
    "collapsed": false
   },
   "source": [
    "**Question 2 :\n",
    "Write a program to find the fourth root of a number.**"
   ]
  },
  {
   "cell_type": "code",
   "execution_count": 15,
   "metadata": {
    "collapsed": false
   },
   "outputs": [
    {
     "name": "stdout",
     "output_type": "stream",
     "text": [
      "The Fourth root of 16  is 2.0\n"
     ]
    }
   ],
   "source": [
    "a=16\n",
    "result=a**(1/4)\n",
    "print(\"The Fourth root of\",a,\" is\",result)"
   ]
  },
  {
   "cell_type": "markdown",
   "metadata": {
    "collapsed": false
   },
   "source": [
    "**Question 3:\n",
    "Write a program to swap two numbers in Python with the help of a temporary variable.**\n"
   ]
  },
  {
   "cell_type": "code",
   "execution_count": 5,
   "metadata": {
    "collapsed": false
   },
   "outputs": [
    {
     "name": "stdout",
     "output_type": "stream",
     "text": [
      "The numbers are a= 2 & b= 3\n",
      "Numbers After swapping are a= 3 & b= 2\n"
     ]
    }
   ],
   "source": [
    "a=2\n",
    "b=3\n",
    "print(\"The numbers are a=\", a ,\"& b=\",b)\n",
    "temp=b\n",
    "b=a\n",
    "a=temp\n",
    "print(\"Numbers After swapping are a=\", a ,\"& b=\",b)"
   ]
  },
  {
   "cell_type": "markdown",
   "metadata": {
    "collapsed": false
   },
   "source": [
    "**Question 4:\n",
    "Write a program to swap two numbers in Python without using a temporary variable**"
   ]
  },
  {
   "cell_type": "code",
   "execution_count": 8,
   "metadata": {
    "collapsed": false
   },
   "outputs": [
    {
     "name": "stdout",
     "output_type": "stream",
     "text": [
      "The numbers are a= 2 & b= 3\n",
      "Numbers After swapping are a= 3 & b= 2\n"
     ]
    }
   ],
   "source": [
    "a=2\n",
    "b=3\n",
    "print(\"The numbers are a=\", a ,\"& b=\",b)\n",
    "a=a+b\n",
    "b=a-b\n",
    "a=a-b\n",
    "print(\"Numbers After swapping are a=\", a ,\"& b=\",b)"
   ]
  },
  {
   "cell_type": "markdown",
   "metadata": {
    "collapsed": false
   },
   "source": [
    "**Question 5:\n",
    "Write a program to convert fahrenheit to kelvin and celsius both**"
   ]
  },
  {
   "cell_type": "code",
   "execution_count": 9,
   "metadata": {
    "collapsed": false
   },
   "outputs": [
    {
     "name": "stdout",
     "output_type": "stream",
     "text": [
      "100  fahrenheit is  37.77777777777778 celsius & 310.9277777777778 kelvin\n"
     ]
    }
   ],
   "source": [
    "f=100\n",
    "c=(f-32)*(5/9)\n",
    "k=(f+459.67)*(5/9)\n",
    "print(f,\" fahrenheit is \",c, \"celsius &\",k,\"kelvin\" )"
   ]
  },
  {
   "cell_type": "markdown",
   "metadata": {
    "collapsed": false
   },
   "source": [
    "**Question 6:\n",
    "Write a program to demonstrate all the available data types in Python. Hint: Use type() function**"
   ]
  },
  {
   "cell_type": "code",
   "execution_count": 11,
   "metadata": {
    "collapsed": false
   },
   "outputs": [
    {
     "name": "stdout",
     "output_type": "stream",
     "text": [
      "Data type of a is \n",
      "<class 'int'>\n",
      "Data type of b is \n",
      "<class 'str'>\n",
      "Data type of c is \n",
      "<class 'float'>\n",
      "Data type of d is \n",
      "<class 'complex'>\n"
     ]
    }
   ],
   "source": [
    "a=123\n",
    "b=\"Hello\"\n",
    "c=56.56\n",
    "d=2+3j\n",
    "print(\"Data type of a is \")\n",
    "print(type(a))\n",
    "print(\"Data type of b is \")\n",
    "print(type(b))\n",
    "print(\"Data type of c is \")\n",
    "print(type(c))\n",
    "print(\"Data type of d is \")\n",
    "print(type(d))\n",
    "\n"
   ]
  },
  {
   "cell_type": "markdown",
   "metadata": {
    "collapsed": false
   },
   "source": [
    "**Question 7:\n",
    "Create a Markdown cell in jupyter and list the steps discussed in the session by Dr. Darshan\n",
    "Ingle sir to create Github profile and upload Githubs Assignment link.**"
   ]
  },
  {
   "cell_type": "markdown",
   "metadata": {
    "collapsed": false
   },
   "source": [
    "## *Steps* \n",
    "**1.Create Github Account by setting username, email address and password**  \n",
    "**2.After completing the assignment, save file.**     \n",
    "**3.Go to github account, click on new repository, write repository name as LetsUpgrade-AI-ML, make it public account, and then create new repository.**   \n",
    "**4.Upload existing file or drag the jupiter file  in the repo in day wise manner into github account, commit change.**\n",
    "**5.Copy the URL of the Folder of that day and paste in the Assignment Submission Form (Google Form)**"
   ]
  },
  {
   "cell_type": "code",
   "execution_count": 0,
   "metadata": {
    "collapsed": false
   },
   "outputs": [
   ],
   "source": [
   ]
  }
 ],
 "metadata": {
  "kernelspec": {
   "display_name": "Python 3 (system-wide)",
   "language": "python",
   "metadata": {
    "cocalc": {
     "description": "Python 3 programming language",
     "priority": 100,
     "url": "https://www.python.org/"
    }
   },
   "name": "python3"
  },
  "language_info": {
   "codemirror_mode": {
    "name": "ipython",
    "version": 3
   },
   "file_extension": ".py",
   "mimetype": "text/x-python",
   "name": "python",
   "nbconvert_exporter": "python",
   "pygments_lexer": "ipython3",
   "version": "3.6.9"
  }
 },
 "nbformat": 4,
 "nbformat_minor": 4
}